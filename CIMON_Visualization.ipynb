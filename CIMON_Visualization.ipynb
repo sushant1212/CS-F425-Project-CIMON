{
  "nbformat": 4,
  "nbformat_minor": 0,
  "metadata": {
    "colab": {
      "name": "CIMON_Visualization.ipynb",
      "provenance": [],
      "collapsed_sections": [
        "zqDNc7YTZkQH",
        "4ui-6Jd5iWMm",
        "nYVFVMLV_BLZ",
        "dDCn_SocjAoH",
        "YW1RSCAeR75K"
      ],
      "include_colab_link": true
    },
    "kernelspec": {
      "name": "python3",
      "display_name": "Python 3"
    },
    "language_info": {
      "name": "python"
    },
    "accelerator": "GPU"
  },
  "cells": [
    {
      "cell_type": "markdown",
      "metadata": {
        "id": "view-in-github",
        "colab_type": "text"
      },
      "source": [
        "<a href=\"https://colab.research.google.com/github/sushant1212/CS-F425-Project-CIMON/blob/main/CIMON_Visualization.ipynb\" target=\"_parent\"><img src=\"https://colab.research.google.com/assets/colab-badge.svg\" alt=\"Open In Colab\"/></a>"
      ]
    },
    {
      "cell_type": "markdown",
      "source": [
        "## Imports"
      ],
      "metadata": {
        "id": "zqDNc7YTZkQH"
      }
    },
    {
      "cell_type": "code",
      "execution_count": 1,
      "metadata": {
        "id": "piR2dBVJewpB"
      },
      "outputs": [],
      "source": [
        "# regular imports for pytorch\n",
        "import torch\n",
        "import torch.nn as nn\n",
        "import torch.nn.functional as F"
      ]
    },
    {
      "cell_type": "code",
      "source": [
        "# mounting drive, so that the dataset will be downloaded there directly. \n",
        "# this is done since the dataset takes time to download and hence it is better to download it once and use it later directly once the session times out\n",
        "from google.colab import drive\n",
        "drive.mount('/content/drive')"
      ],
      "metadata": {
        "id": "f4pLg0fMe5Px",
        "colab": {
          "base_uri": "https://localhost:8080/"
        },
        "outputId": "e9927e66-526b-4314-a077-54a97baf1666"
      },
      "execution_count": 2,
      "outputs": [
        {
          "output_type": "stream",
          "name": "stdout",
          "text": [
            "Drive already mounted at /content/drive; to attempt to forcibly remount, call drive.mount(\"/content/drive\", force_remount=True).\n"
          ]
        }
      ]
    },
    {
      "cell_type": "code",
      "source": [
        "# changing directory\n",
        "%cd /content/drive/MyDrive\n",
        "PATH  = \"/content/drive/MyDrive/DL_CIMON/\""
      ],
      "metadata": {
        "id": "gzbnQLDLe5_l",
        "colab": {
          "base_uri": "https://localhost:8080/"
        },
        "outputId": "ba9077be-df75-4d6d-a0cf-2d560d2041f6"
      },
      "execution_count": 3,
      "outputs": [
        {
          "output_type": "stream",
          "name": "stdout",
          "text": [
            "/content/drive/MyDrive\n"
          ]
        }
      ]
    },
    {
      "cell_type": "code",
      "source": [
        "# importing torchvison datasets, and other torchvision tools for image processing\n",
        "from torch.utils.data import Dataset\n",
        "from torchvision import datasets, models, transforms\n",
        "from torchvision.transforms import ToTensor\n",
        "import torchvision.transforms as transforms\n",
        "import torch.optim as optim"
      ],
      "metadata": {
        "id": "_OvilQpDe8Es"
      },
      "execution_count": 4,
      "outputs": []
    },
    {
      "cell_type": "code",
      "source": [
        "from sklearn.cluster import SpectralClustering\n",
        "import matplotlib.pyplot as plt\n",
        "import numpy as np\n",
        "from scipy.stats import norm\n",
        "from tqdm import tqdm"
      ],
      "metadata": {
        "id": "rdcW-cvBe-Jy"
      },
      "execution_count": 5,
      "outputs": []
    },
    {
      "cell_type": "code",
      "source": [
        "import warnings\n",
        "warnings.filterwarnings('ignore')\n",
        "# warnings.filterwarnings(action='once')"
      ],
      "metadata": {
        "id": "e9o20b4I3Csj"
      },
      "execution_count": 6,
      "outputs": []
    },
    {
      "cell_type": "code",
      "source": [
        "# Seeding for reproducibility\n",
        "torch.manual_seed(0)\n",
        "np.random.seed(0)"
      ],
      "metadata": {
        "id": "NMZNo-7KfUYK"
      },
      "execution_count": 7,
      "outputs": []
    },
    {
      "cell_type": "code",
      "source": [
        "# Converting the images to tensors and normalizing them.\n",
        "transform = transforms.Compose([\n",
        "    transforms.ToTensor(),\n",
        "    transforms.Normalize([0.485, 0.456, 0.406], [0.229, 0.224, 0.225]),\n",
        "])\n",
        "\n",
        "# The lines below are for downloading the dataset. If the dataset is downloaded already, then set the download=False\n",
        "\n",
        "training_data = datasets.STL10(\n",
        "    root=\"DL_CIMON\",\n",
        "    split=\"train\",\n",
        "    transform=transform,\n",
        "    download=False\n",
        ")\n"
      ],
      "metadata": {
        "id": "8LJwuOC4fVu6"
      },
      "execution_count": 8,
      "outputs": []
    },
    {
      "cell_type": "code",
      "source": [
        "# HYPERPARAMS:\n",
        "BATCH_SIZE = 256 # number of images used for pseudo graph construction\n",
        "NO_OF_SAMPLES = 20000 \n",
        "N_CLUSTERS = 5 # used in spectral clustering. Paper used a value of 70 for 5000 samples\n",
        "THRESHOLD = 0.3 # used in pseudo graph, paper has used a value of 0.1\n",
        "L = 128 # Length of the hash code\n",
        "TAU = 0.5 \n",
        "NETA = 0.3 # used in the loss function"
      ],
      "metadata": {
        "id": "VeYS-sozwwim"
      },
      "execution_count": 9,
      "outputs": []
    },
    {
      "cell_type": "markdown",
      "source": [
        "### F( ) model code"
      ],
      "metadata": {
        "id": "NRIRLpeCWh40"
      }
    },
    {
      "cell_type": "code",
      "source": [
        "class modelF(nn.Module):\n",
        "    def __init__(self) -> None:\n",
        "        super().__init__()\n",
        "        self.model = models.vgg11_bn(pretrained=True)\n",
        "        self.model.classifier = nn.Sequential(*[self.model.classifier[i] for i in range(4)]) # removing the last layers of the pretrained model\n",
        "    def forward(self, x):\n",
        "        return self.model(x)"
      ],
      "metadata": {
        "id": "aSS3m0_mhLzh"
      },
      "execution_count": 12,
      "outputs": []
    },
    {
      "cell_type": "markdown",
      "source": [
        "## Defining the Network"
      ],
      "metadata": {
        "id": "vRfRXmiZKcLr"
      }
    },
    {
      "cell_type": "code",
      "source": [
        "class HashingNet(nn.Module):\n",
        "    def __init__(self) -> None:\n",
        "        super().__init__()\n",
        "        self.G = modelF()\n",
        "        self.hashing_net = nn.Sequential(\n",
        "            nn.ReLU(inplace=True), \n",
        "            nn.Dropout(p=0.5, inplace=False), \n",
        "            nn.Linear(4096, L, bias=True), \n",
        "            nn.Tanh())\n",
        "    \n",
        "    def forward(self, x):\n",
        "        x = self.G(x)\n",
        "        x = self.hashing_net(x)\n",
        "        return x"
      ],
      "metadata": {
        "id": "-jd4KJAGKF_q"
      },
      "execution_count": 13,
      "outputs": []
    },
    {
      "cell_type": "code",
      "source": [
        "# Loading the model:\n",
        "model = HashingNet()\n",
        "\n",
        "model.load_state_dict(torch.load(\"/content/drive/MyDrive/DL_CIMON/run3.pth\"))\n",
        "model.eval()\n",
        "for param in model.parameters():\n",
        "    param.requires_grad = False"
      ],
      "metadata": {
        "id": "9wRXktZZzf5b"
      },
      "execution_count": 32,
      "outputs": []
    },
    {
      "cell_type": "code",
      "source": [
        "class0 = []\n",
        "class1 = []\n",
        "class2 = []\n",
        "\n",
        "count0 = 0\n",
        "count1 = 0\n",
        "count2 = 0"
      ],
      "metadata": {
        "id": "iQ8mxrbWKwwm"
      },
      "execution_count": 33,
      "outputs": []
    },
    {
      "cell_type": "code",
      "source": [
        "i = 0\n",
        "while count0!=20 or count1!=20 or count2!=20 or count2!=20:\n",
        "    X, y = training_data[i]\n",
        "    if(y==0 and count0!=20):\n",
        "        class0.append(X)\n",
        "        count0+=1\n",
        "    elif(y==1 and count1!=20):\n",
        "        class1.append(X)\n",
        "        count1+=1\n",
        "    elif(y==2 and count2!=20):\n",
        "        class2.append(X)\n",
        "        count2+=1\n",
        "    i+=1"
      ],
      "metadata": {
        "id": "yNZ3P6L3K_fZ"
      },
      "execution_count": 34,
      "outputs": []
    },
    {
      "cell_type": "code",
      "source": [
        "X = torch.cat([class0[i].unsqueeze(0) for i in range(20)], dim = 0)\n",
        "Y = torch.cat([class1[i].unsqueeze(0) for i in range(20)], dim = 0)\n",
        "Z = torch.cat([class2[i].unsqueeze(0) for i in range(20)], dim = 0)"
      ],
      "metadata": {
        "id": "jpL2wXQCNqmT"
      },
      "execution_count": 35,
      "outputs": []
    },
    {
      "cell_type": "code",
      "source": [
        "M = torch.cat([X, Y, Z], dim = 0)"
      ],
      "metadata": {
        "id": "LllGprswOELM"
      },
      "execution_count": 36,
      "outputs": []
    },
    {
      "cell_type": "code",
      "source": [
        "l = [0 for i in range(20)]\n",
        "m = [1 for i in range(20)]\n",
        "n = [2 for i in range(20)]\n",
        "labels = l+m+n"
      ],
      "metadata": {
        "id": "C5SOkTEjOx7_"
      },
      "execution_count": 37,
      "outputs": []
    },
    {
      "cell_type": "code",
      "source": [
        "hashes = model(M.float())"
      ],
      "metadata": {
        "id": "lqjoX3tOPy86"
      },
      "execution_count": 38,
      "outputs": []
    },
    {
      "cell_type": "code",
      "source": [
        "hashes.shape"
      ],
      "metadata": {
        "colab": {
          "base_uri": "https://localhost:8080/"
        },
        "id": "jlCIZiEFQY6j",
        "outputId": "dcb0c41c-6c3b-4ca9-897d-3bfb372c8083"
      },
      "execution_count": 39,
      "outputs": [
        {
          "output_type": "execute_result",
          "data": {
            "text/plain": [
              "torch.Size([60, 128])"
            ]
          },
          "metadata": {},
          "execution_count": 39
        }
      ]
    },
    {
      "cell_type": "code",
      "source": [
        "from sklearn.decomposition import PCA\n"
      ],
      "metadata": {
        "id": "E2Sf5gauRSmX"
      },
      "execution_count": 40,
      "outputs": []
    },
    {
      "cell_type": "code",
      "source": [
        "pca = PCA(n_components=2)\n",
        "m = hashes.cpu().detach().numpy()\n",
        "pca_result = pca.fit_transform(m)"
      ],
      "metadata": {
        "id": "MMq8QdA8RsDe"
      },
      "execution_count": 41,
      "outputs": []
    },
    {
      "cell_type": "code",
      "source": [
        "colors = {}\n",
        "colors[0] = 'g'\n",
        "colors[1] = 'r'\n",
        "colors[2] = 'b'\n"
      ],
      "metadata": {
        "id": "MvNR50j2SW7N"
      },
      "execution_count": 42,
      "outputs": []
    },
    {
      "cell_type": "code",
      "source": [
        "for i in range(len(pca_result)):\n",
        "    plt.scatter(pca_result[i][0], pca_result[i][1], label=str(labels[i]), color=colors[labels[i]])\n",
        "plt.show()"
      ],
      "metadata": {
        "colab": {
          "base_uri": "https://localhost:8080/",
          "height": 265
        },
        "id": "-YSowQwOSkbR",
        "outputId": "9d93ce55-4151-44b2-897b-92dbb9948610"
      },
      "execution_count": 43,
      "outputs": [
        {
          "output_type": "display_data",
          "data": {
            "text/plain": [
              "<Figure size 432x288 with 1 Axes>"
            ],
            "image/png": "[encoded data removed]"
          },
          "metadata": {
            "needs_background": "light"
          }
        }
      ]
    },
    {
      "cell_type": "code",
      "source": [
        ""
      ],
      "metadata": {
        "id": "uYL7ERYpTVjd"
      },
      "execution_count": null,
      "outputs": []
    }
  ]
}